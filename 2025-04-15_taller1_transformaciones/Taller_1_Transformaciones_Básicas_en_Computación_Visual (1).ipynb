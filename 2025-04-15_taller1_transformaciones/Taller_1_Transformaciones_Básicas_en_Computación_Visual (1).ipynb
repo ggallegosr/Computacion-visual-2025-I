{
  "nbformat": 4,
  "nbformat_minor": 0,
  "metadata": {
    "colab": {
      "provenance": []
    },
    "kernelspec": {
      "name": "python3",
      "display_name": "Python 3"
    },
    "language_info": {
      "name": "python"
    }
  },
  "cells": [
    {
      "cell_type": "markdown",
      "source": [
        "# Taller 1 - Transformaciones Básicas en Computación Visual\n",
        "\n",
        "**Gabriela Gallegos Rubio**"
      ],
      "metadata": {
        "id": "5s8Pab6sob82"
      }
    },
    {
      "cell_type": "markdown",
      "source": [
        "* Crear una figura 2D con puntos o formas\n",
        "* Aplicar traslación, rotación y escala usando matrices de transformación\n",
        "* Generar una animación (usando bucles o interpolación)\n",
        "* Animar la transformación en función del tiempo (t) o del frame\n",
        "* Exportar como GIF animado con imageio\n",
        "* Opcional: mostrar la matriz resultante de cada transformación y cómo cambia con el tiempo\n"
      ],
      "metadata": {
        "id": "5qbPJujnok8F"
      }
    },
    {
      "cell_type": "code",
      "execution_count": 1,
      "metadata": {
        "id": "8QFwaypQoSQG"
      },
      "outputs": [],
      "source": [
        "import matplotlib.pyplot as plt\n",
        "import numpy as np\n",
        "import imageio\n",
        "import os"
      ]
    },
    {
      "cell_type": "markdown",
      "source": [
        "# Creación de la figura corazón\n",
        "\n",
        "Se utilizan ecuaciones paramétricas para formar dicha figura.\n",
        "\n",
        "\n",
        "![Corazón.png](data:image/png;base64,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)"
      ],
      "metadata": {
        "id": "T_ey8n3l3157"
      }
    },
    {
      "cell_type": "code",
      "source": [
        "def create_heart(num_points=100):\n",
        "    t = np.linspace(0, 2 * np.pi, num_points)\n",
        "    x = 16 * np.sin(t)**3\n",
        "    y = 13 * np.cos(t) - 5 * np.cos(2*t) - 2 * np.cos(3*t) - np.cos(4*t)\n",
        "    points = np.array([x, y]) / 15  # Escalar para que quepa en los límites\n",
        "    return points"
      ],
      "metadata": {
        "id": "mbcNJkqx4cHS"
      },
      "execution_count": 2,
      "outputs": []
    },
    {
      "cell_type": "markdown",
      "source": [
        "# Matrices de transformación, rotación y escala"
      ],
      "metadata": {
        "id": "EUGrNqXq2Ah1"
      }
    },
    {
      "cell_type": "code",
      "source": [
        "# Matrices de transformación\n",
        "def translation_matrix(tx, ty):\n",
        "    return np.array([[1, 0, tx],\n",
        "                     [0, 1, ty],\n",
        "                     [0, 0, 1]])\n",
        "\n",
        "def rotation_matrix(theta):\n",
        "    return np.array([[np.cos(theta), -np.sin(theta), 0],\n",
        "                     [np.sin(theta), np.cos(theta), 0],\n",
        "                     [0, 0, 1]])\n",
        "\n",
        "def scale_matrix(sx, sy):\n",
        "    return np.array([[sx, 0, 0],\n",
        "                     [0, sy, 0],\n",
        "                     [0, 0, 1]])\n",
        "\n",
        "# Aplicar transformación a los puntos\n",
        "def apply_transformation(points, matrix):\n",
        "    points_homogeneous = np.vstack((points, np.ones(points.shape[1])))\n",
        "    transformed = matrix @ points_homogeneous\n",
        "    return transformed[:2, :]\n"
      ],
      "metadata": {
        "id": "ShqpER1_1_Ll"
      },
      "execution_count": 3,
      "outputs": []
    },
    {
      "cell_type": "markdown",
      "source": [
        "# Animación"
      ],
      "metadata": {
        "id": "z0hg0bgp2P_l"
      }
    },
    {
      "cell_type": "code",
      "source": [
        "# Configuración de la animación\n",
        "frames = 100\n",
        "t = np.linspace(0, 2 * np.pi, frames)\n",
        "images = []\n",
        "points = create_heart()\n",
        "\n",
        "# Plano de la figura\n",
        "fig, ax = plt.subplots()\n",
        "ax.set_aspect('equal')\n",
        "ax.set_xlim(0, 10)\n",
        "ax.set_ylim(0, 10)\n",
        "\n",
        "# Animación\n",
        "for i in range(frames):\n",
        "\n",
        "    # Parámetros de la animación\n",
        "    tx = 1.5 * np.sin(t[i])  # Traslación en x\n",
        "    ty = 1.5 * np.cos(t[i])  # Traslación en y\n",
        "    theta = t[i]  # Rotación\n",
        "    sx = 1 + 0.5 * np.sin(t[i])  # Escala en x\n",
        "    sy = 1 + 0.5 * np.cos(t[i])  # Escala en y\n",
        "\n",
        "    # Crear matrices de transformación\n",
        "    T = translation_matrix(tx, ty)\n",
        "    R = rotation_matrix(theta)\n",
        "    S = scale_matrix(sx, sy)\n",
        "\n",
        "    # Combinar transformaciones: T * R * S\n",
        "    M = T @ R @ S\n",
        "\n",
        "    # Aplicar transformación a los puntos\n",
        "    transformed_points = apply_transformation(points, M)\n",
        "\n",
        "    # Dibujar la figura\n",
        "    ax.clear()\n",
        "    ax.set_xlim(-5, 5)\n",
        "    ax.set_ylim(-5, 5)\n",
        "    ax.set_aspect('equal')\n",
        "    ax.plot(np.append(transformed_points[0, :], transformed_points[0, 0]),\n",
        "            np.append(transformed_points[1, :], transformed_points[1, 0]), 'r-')  # Cambié a rojo\n",
        "    ax.fill(transformed_points[0, :], transformed_points[1, :], 'r', alpha=0.3)  # Relleno rojo\n",
        "\n",
        "    # Guardar frame como imagen temporal\n",
        "    temp_file = f\"frame_{i}.png\"\n",
        "    plt.savefig(temp_file)\n",
        "    images.append(imageio.imread(temp_file))\n",
        "    os.remove(temp_file)\n",
        "\n",
        "# Exportar como GIF\n",
        "imageio.mimsave('Corazon.gif', images, fps=30)\n",
        "plt.close()"
      ],
      "metadata": {
        "colab": {
          "base_uri": "https://localhost:8080/"
        },
        "id": "kUkQ6REHzx13",
        "outputId": "06ed5de3-0045-4dba-95c9-000e799b9d16"
      },
      "execution_count": 4,
      "outputs": [
        {
          "output_type": "stream",
          "name": "stderr",
          "text": [
            "<ipython-input-4-3a4c9726a15c>:46: DeprecationWarning: Starting with ImageIO v3 the behavior of this function will switch to that of iio.v3.imread. To keep the current behavior (and make this warning disappear) use `import imageio.v2 as imageio` or call `imageio.v2.imread` directly.\n",
            "  images.append(imageio.imread(temp_file))\n"
          ]
        }
      ]
    }
  ]
}